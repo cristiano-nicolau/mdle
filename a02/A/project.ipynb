{
 "cells": [
  {
   "cell_type": "markdown",
   "id": "e9287322",
   "metadata": {},
   "source": [
    "## Cristiano Nicolau - 108536"
   ]
  },
  {
   "cell_type": "markdown",
   "id": "49487bcd",
   "metadata": {},
   "source": [
    "## Problem\n",
    "Write a program that implements a simple “People You Might Know” social \n",
    "network  friendship  recommendation  algorithm.  The  key  idea  is  that  if  two \n",
    "people have a lot of mutual friends, then the system should recommend that \n",
    "they connect with each other. \n",
    " \n",
    "Data: \n",
    " \n",
    "- Associated data file is soc-LiveJournal1Adj.txt found in the shared folder. \n",
    "- The file contains the adjacency list and has multiple lines in the following \n",
    "format: \n",
    " \n",
    "- <User ID> <Friend 1> <Friend 2> <Friend 3> ..."
   ]
  },
  {
   "cell_type": "code",
   "execution_count": 1,
   "id": "22cd3106",
   "metadata": {},
   "outputs": [],
   "source": [
    "from pyspark.sql import SparkSession"
   ]
  },
  {
   "cell_type": "code",
   "execution_count": 2,
   "id": "aa1b1410",
   "metadata": {},
   "outputs": [
    {
     "name": "stderr",
     "output_type": "stream",
     "text": [
      "25/04/04 22:53:34 WARN Utils: Your hostname, cristianonicolau.local resolves to a loopback address: 127.0.0.1; using 192.168.1.102 instead (on interface en0)\n",
      "25/04/04 22:53:34 WARN Utils: Set SPARK_LOCAL_IP if you need to bind to another address\n",
      "Setting default log level to \"WARN\".\n",
      "To adjust logging level use sc.setLogLevel(newLevel). For SparkR, use setLogLevel(newLevel).\n",
      "25/04/04 22:53:35 WARN NativeCodeLoader: Unable to load native-hadoop library for your platform... using builtin-java classes where applicable\n"
     ]
    }
   ],
   "source": [
    "sp = SparkSession.builder.appName(\"People You Might Know\").getOrCreate()\n",
    "sp.sparkContext.setLogLevel(\"ERROR\")     "
   ]
  },
  {
   "cell_type": "markdown",
   "id": "3e82662c",
   "metadata": {},
   "source": [
    "A minha abordagem começa por ler o ficheiro txt e criar um dicionário onde a chave é o User ID e o valor é uma lista com os amigos desse User ID."
   ]
  },
  {
   "cell_type": "code",
   "execution_count": 3,
   "id": "e7877cdf",
   "metadata": {},
   "outputs": [],
   "source": [
    "INPUT_PATH = \"_input/soc-LiveJournal1Adj.txt\"\n",
    "OUTPUT_PATH = \"_output/people-you-might-know\""
   ]
  },
  {
   "cell_type": "code",
   "execution_count": 4,
   "id": "f7b1ed53",
   "metadata": {},
   "outputs": [],
   "source": [
    "def parse_line(line):\n",
    "    \"\"\"\n",
    "    Esta funçao recebe uma linha do arquivo de entrada e retorna um par (user_id, friends)\n",
    "    user_id é um inteiro unico e friends é uma lista de inteiros representando os amigos\n",
    "    O que faço na função é dividir a linha em partes, onde a primeira parte é o user_id e após p tab temos a segunda parte que são os amigos\n",
    "    \"\"\"\n",
    "    parts = line.strip().split('\\t')\n",
    "    user_id = int(parts[0])\n",
    "    friends = [int(friend) for friend in parts[1].split(',')] if len(parts) > 1 else []\n",
    "    return user_id, friends\n",
    "\n",
    "def load_network(file_path):\n",
    "    \"\"\"\n",
    "    Esta função carrega a rede de amigos a partir do ficheiro\n",
    "    Ela lê o arquivo, processa cada linha e retorna um dicionário onde as chaves são os user_ids e os valores são conjuntos de amigos.\n",
    "    \"\"\"\n",
    "    network = {}\n",
    "    try:\n",
    "        rdd = sp.sparkContext.textFile(file_path)\n",
    "        network_rdd = rdd.map(parse_line)\n",
    "    except FileNotFoundError:\n",
    "        print(f\"File not found: {file_path}\")\n",
    "        return {}\n",
    "    except Exception as e:\n",
    "        print(f\"Error loading network: {str(e)}\")\n",
    "        return {}\n",
    "    \n",
    "    return network_rdd"
   ]
  },
  {
   "cell_type": "code",
   "execution_count": 5,
   "id": "e338b1e7",
   "metadata": {},
   "outputs": [
    {
     "name": "stdout",
     "output_type": "stream",
     "text": [
      "Number of users: 49995\n",
      "User 0 has 94 friends.\n",
      "User 1 has 67 friends.\n",
      "User 2 has 16 friends.\n",
      "User 3 has 9 friends.\n",
      "User 4 has 19 friends.\n",
      "User 5 has 15 friends.\n",
      "User 6 has 35 friends.\n",
      "User 7 has 6 friends.\n",
      "User 8 has 9 friends.\n",
      "User 9 has 4 friends.\n"
     ]
    }
   ],
   "source": [
    "network_rdd = load_network(INPUT_PATH)\n",
    "\n",
    "print(\"Number of users:\", network_rdd.count())\n",
    "for user_id, friends in network_rdd.take(10):\n",
    "    print(f\"User {user_id} has {len(friends)} friends.\")\n"
   ]
  },
  {
   "cell_type": "code",
   "execution_count": null,
   "id": "eb599d5a",
   "metadata": {},
   "outputs": [],
   "source": [
    "def recommend_friends(network_rdd, N=10):\n",
    "    pairs_rdd = network_rdd.flatMap(lambda x: [(x[0], friend) for friend in x[1]])\n",
    "    \n",
    "    mutual_friends_rdd = (\n",
    "        pairs_rdd\n",
    "        .map(lambda x: (x[1], x[0]))  \n",
    "        .join(pairs_rdd.map(lambda x: (x[1], x[0])))  \n",
    "        .filter(lambda x: x[1][0] < x[1][1]) \n",
    "        .map(lambda x: ((x[1][0], x[1][1]), 1)) \n",
    "        .reduceByKey(lambda a, b: a + b) \n",
    "    )\n",
    "    \n",
    "    existing_friendships = pairs_rdd.map(lambda x: (x[0], {x[1]})) \\\n",
    "                                   .reduceByKey(lambda a, b: a.union(b)) \\\n",
    "                                   .collectAsMap()\n",
    "    \n",
    "    recommendations_rdd = (\n",
    "        mutual_friends_rdd\n",
    "        .flatMap(lambda x: [\n",
    "            (x[0][0], (x[0][1], x[1])),  \n",
    "            (x[0][1], (x[0][0], x[1]))  \n",
    "        ])\n",
    "        .filter(lambda x: x[1][0] not in existing_friendships.get(x[0], set())) \n",
    "        .groupByKey()  \n",
    "        .mapValues(lambda iter_friends: \n",
    "            ','.join(str(f[0]) for f in sorted(iter_friends, key=lambda x: (-x[1], x[0]))[:N])\n",
    "        )\n",
    "    )\n",
    "    \n",
    "    all_users = network_rdd.map(lambda x: x[0])\n",
    "    users_with_recs = recommendations_rdd.map(lambda x: x[0])\n",
    "    users_without_recs = all_users.subtract(users_with_recs).map(lambda user: (user, \"\"))\n",
    "    \n",
    "    final_recommendations = recommendations_rdd.union(users_without_recs)\n",
    "    \n",
    "    return final_recommendations"
   ]
  },
  {
   "cell_type": "code",
   "execution_count": null,
   "id": "42776fb9",
   "metadata": {},
   "outputs": [
    {
     "name": "stderr",
     "output_type": "stream",
     "text": [
      "                                                                                \r"
     ]
    },
    {
     "name": "stdout",
     "output_type": "stream",
     "text": [
      "Number of recommendations: 49995\n"
     ]
    },
    {
     "name": "stderr",
     "output_type": "stream",
     "text": [
      "[Stage 13:>                                                         (0 + 1) / 1]\r"
     ]
    },
    {
     "name": "stdout",
     "output_type": "stream",
     "text": [
      "User 68 recommendations: 1,2,3,4,5,6,7,8,9,10\n",
      "User 27552 recommendations: 25186,38737,44070,19365,27600,10022,37448,18912,27086,27589\n",
      "User 41444 recommendations: 27555,7785,27583,27585,27590,27679,38737,1489,9144,12633\n",
      "User 25176 recommendations: 34278,28263,36683,3734,8685,20561,25225,29490,36706,36961\n",
      "User 15712 recommendations: 439,1100,15114,15707,15730,16532,23305,26577,26603,26609\n",
      "User 18320 recommendations: 9463,9770,9858,18298,18306,18576,20456,41782,52,503\n",
      "User 49888 recommendations: 23512,13616,13722,34140,1923,23523,27536,8672,17636,20554\n",
      "User 14044 recommendations: 13966,13867,14125,13911,13960,14123,14162,13917,14027,23660\n",
      "User 13876 recommendations: 12519,8726,14073,7494,13867,13872,13877,13993,14026,14101\n",
      "User 29772 recommendations: 29783,8721,43145,13430,19416,26883,28050,29780,29819,43143\n"
     ]
    },
    {
     "name": "stderr",
     "output_type": "stream",
     "text": [
      "                                                                                \r"
     ]
    }
   ],
   "source": [
    "recommendations_rdd = recommend_friends(network_rdd, N=10)\n",
    "print(\"Number of recommendations:\", recommendations_rdd.count())\n",
    "for user_id, recs in recommendations_rdd.take(10):\n",
    "    print(f\"User {user_id} recommendations: {recs}\")"
   ]
  },
  {
   "cell_type": "code",
   "execution_count": null,
   "id": "22b475fb",
   "metadata": {},
   "outputs": [
    {
     "name": "stderr",
     "output_type": "stream",
     "text": [
      "[Stage 18:==================================>                      (6 + 4) / 10]\r"
     ]
    },
    {
     "name": "stdout",
     "output_type": "stream",
     "text": [
      "Recommendations saved to _output/people-you-might-know\n"
     ]
    },
    {
     "name": "stderr",
     "output_type": "stream",
     "text": [
      "                                                                                \r"
     ]
    }
   ],
   "source": [
    "def save_recommendations(recommendations_rdd, output_path):\n",
    "    formatted_recommendations = recommendations_rdd.map(\n",
    "        lambda user_recs: f\"{user_recs[0]}\\t{user_recs[1]}\"\n",
    "    )\n",
    "    formatted_recommendations.repartition(1).saveAsTextFile(output_path)\n",
    "    print(f\"Recommendations saved to {output_path}\")\n",
    "\n",
    "save_recommendations(recommendations_rdd, OUTPUT_PATH)"
   ]
  },
  {
   "cell_type": "code",
   "execution_count": 10,
   "id": "7b0b7f40",
   "metadata": {},
   "outputs": [],
   "source": [
    "sp.stop()"
   ]
  },
  {
   "cell_type": "markdown",
   "id": "ac514878",
   "metadata": {},
   "source": [
    "## Explicação do algoritmo\n",
    "\n",
    "O algoritmo implementado é um sistema de recomendação de amizades baseado em amigos em comum. A ideia principal é que, se duas pessoas têm muitos amigos em comum, elas devem ser recomendadas uma para a outra.\n",
    "\n",
    "1. **Carregamento da Rede de Amigos**:\n",
    "    - O algoritmo começa por ler um ficheiro de entrada, onde cada linha representa um utilizador e os seus amigos.\n",
    "        - Exemplo de linha: 1   2,3,4 (o utilizador 1 é amigo dos utilizadores 2, 3 e 4).\n",
    "\n",
    "    - Cada linha é processada e convertida num par:\n",
    "        - `(user_id, friends)`, onde:\n",
    "            - `user_id`: número inteiro que representa o ID do utilizador.\n",
    "            - `friends`: lista de inteiros com os IDs dos seus amigos diretos.\n",
    "\n",
    "    - Os dados são carregados num RDD (Resilient Distributed Dataset) — estrutura Spark que permite fazer operações em paralelo, escalavel, tolerante a falhas e imutável.\n",
    "\n",
    "2. **Pares de Amizades**:\n",
    "    - Apos isso para cada utilizador, crio pares do tipo (utilizador, amigo) para representar as amizades existentes.\n",
    "        - Exemplo: se o utilizador 1 tem amigos 2, 3 e 4, os pares seriam (1, 2), (1, 3) e (1, 4).\n",
    "        - Isso é feito usando a função `flatMap`, que transforma cada lista de amigos num conjunto de pares (amigo, utilizador).\n",
    "        - O resultado é uma lista de pares onde cada amigo é associado ao seu utilizador original.\n",
    "\n",
    "    - Estes pares são depois reorganizados como (amigo, utilizador) para facilitar o processo seguinte, que consiste em encontrar utilizadores com amigos em comum.\n",
    "        - Isso é feito usando a função `map`, que transforma cada par (utilizador, amigo) em (amigo, utilizador).\n",
    "        - O resultado é uma lista de pares onde cada amigo é associado ao seu utilizador original.\n",
    "\n",
    "    - Com esta reorganização consigo tratar os amigos como chaves e ver quem mais tem o mesmo amigo.\n",
    "\n",
    "3. **Identificação de Amigos em Comum**:\n",
    "    - DEpois o algoritmo junta os pares (amigo, utilizador) entre si — ou seja, encontra utilizadores diferentes que partilham o mesmo amigo.\n",
    "        - Isto é feito usando a função `join`, que combina os pares (amigo, utilizador) com base no amigo em comum.\n",
    "        - Exemplo: se tanto o A como o B são amigos do X, então encontramos o par (A, B) com um amigo em comum (X).\n",
    "\n",
    "    - Para evitar repetições como (A, B) e (B, A), consideramos apenas os pares onde A < B.\n",
    "        - Isso é feito usando a função `filter`, que remove os pares onde o utilizador A é maior ou igual ao utilizador B.\n",
    "        - Exemplo: se temos os pares (1, 2) e (2, 1), mantemos apenas (1, 2). Com isto, garantimos que cada par de utilizadores é contado apenas uma vez.\n",
    "\n",
    "    - No final, contamos quantas vezes cada par de utilizadores aparece com amigos em comum — ou seja, quantos amigos partilham.\n",
    "\n",
    "4. **Filtragem de Amizades Existentes**:\n",
    "    - Apos isso criamos um mapa com as amizades atuais (quem já é amigo de quem).\n",
    "    - Antes de sugerir amizades novas, garantimos que nenhuma sugestão é de alguém que já é amigo do utilizador.\n",
    "    \n",
    "    \n",
    "5. **Geração de Recomendações**:\n",
    "    - A partir dos pares com amigos em comum (e que ainda não são amigos), o algoritmo gera sugestões.\n",
    "    - Para cada utilizador:\n",
    "        - Ordena-se a lista de potenciais amigos por:\n",
    "            - Número de amigos em comum (ordem decrescente).\n",
    "            - ID do utilizador recomendado (ordem crescente, para desempatar).\n",
    "            - Selecionam-se os N melhores candidatos (por defeito, 10) e formatam-se como uma string.\n",
    "\n",
    "6. **Utilizadores Sem Recomendações**:\n",
    "    - Alguns utilizadores podem não ter amigos em comum com ninguém fora do seu círculo atual.\n",
    "    - Nestes casos, o algoritmo garante que também são incluídos no resultado, mas com uma lista de recomendações vazia.\n",
    "\n",
    "7. **Save das Recomendações**:\n",
    "    - As recomendações finais são formatadas e guardadas num ficheiro de saída.\n"
   ]
  }
 ],
 "metadata": {
  "kernelspec": {
   "display_name": "bolsa",
   "language": "python",
   "name": "python3"
  },
  "language_info": {
   "codemirror_mode": {
    "name": "ipython",
    "version": 3
   },
   "file_extension": ".py",
   "mimetype": "text/x-python",
   "name": "python",
   "nbconvert_exporter": "python",
   "pygments_lexer": "ipython3",
   "version": "3.10.16"
  }
 },
 "nbformat": 4,
 "nbformat_minor": 5
}
